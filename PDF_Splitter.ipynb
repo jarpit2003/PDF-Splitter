{
  "nbformat": 4,
  "nbformat_minor": 0,
  "metadata": {
    "colab": {
      "provenance": [],
      "include_colab_link": true
    },
    "kernelspec": {
      "name": "python3",
      "display_name": "Python 3"
    },
    "language_info": {
      "name": "python"
    }
  },
  "cells": [
    {
      "cell_type": "markdown",
      "metadata": {
        "id": "view-in-github",
        "colab_type": "text"
      },
      "source": [
        "<a href=\"https://colab.research.google.com/github/jarpit2003/PDF-Splitter/blob/main/PDF_Splitter.ipynb\" target=\"_parent\"><img src=\"https://colab.research.google.com/assets/colab-badge.svg\" alt=\"Open In Colab\"/></a>"
      ]
    },
    {
      "cell_type": "code",
      "execution_count": 5,
      "metadata": {
        "colab": {
          "base_uri": "https://localhost:8080/"
        },
        "id": "gtpWXzgUTf87",
        "outputId": "3cca4bb5-ef96-4de0-8b69-e5abb28252be"
      },
      "outputs": [
        {
          "output_type": "stream",
          "name": "stdout",
          "text": [
            "Requirement already satisfied: PyPDF2 in /usr/local/lib/python3.10/dist-packages (3.0.1)\n"
          ]
        }
      ],
      "source": [
        "!pip install PyPDF2"
      ]
    },
    {
      "cell_type": "code",
      "source": [
        "import os\n",
        "from PyPDF2 import PdfReader, PdfWriter\n",
        "\n",
        "def split_pdf(input_pdf, output_dir, split_page):\n",
        "    if not os.path.exists(output_dir):\n",
        "        os.makedirs(output_dir)\n",
        "\n",
        "    pdf = PdfReader(open(input_pdf, \"rb\"))\n",
        "    total_pages = len(pdf.pages)\n",
        "\n",
        "    if split_page < 1 or split_page >= total_pages:\n",
        "        raise ValueError(\"Split page number must be between 1 and the total number of pages minus one.\")\n",
        "\n",
        "    part1_writer = PdfWriter()\n",
        "    part2_writer = PdfWriter()\n",
        "\n",
        "    for page_num in range(total_pages):\n",
        "        if page_num < split_page:\n",
        "            part1_writer.add_page(pdf.pages[page_num])\n",
        "        else:\n",
        "            part2_writer.add_page(pdf.pages[page_num])\n",
        "\n",
        "    # Save the two parts\n",
        "    part1_filename = os.path.join(output_dir, 'part1.pdf')\n",
        "    part2_filename = os.path.join(output_dir, 'part2.pdf')\n",
        "\n",
        "    with open(part1_filename, 'wb') as part1_pdf:\n",
        "        part1_writer.write(part1_pdf)\n",
        "\n",
        "    with open(part2_filename, 'wb') as part2_pdf:\n",
        "        part2_writer.write(part2_pdf)\n",
        "\n",
        "    print(f'Created: {part1_filename}')\n",
        "    print(f'Created: {part2_filename}')\n",
        "\n",
        "if __name__ == \"__main__\":\n",
        "    input_pdf = '/content/Research (1).pdf'  # Replace with the path to your input PDF file\n",
        "    output_dir = '/content/ouput'  # Replace with the directory where you want to save the output PDFs\n",
        "    split_page = int(input(\"Enter the page number where you want to split the PDF: \"))\n",
        "    split_pdf(input_pdf, output_dir, split_page)\n"
      ],
      "metadata": {
        "colab": {
          "base_uri": "https://localhost:8080/"
        },
        "id": "GBkQijI1Tjum",
        "outputId": "3b53f269-de8e-4f16-ad46-455975747ab5"
      },
      "execution_count": 3,
      "outputs": [
        {
          "output_type": "stream",
          "name": "stdout",
          "text": [
            "Enter the page number where you want to split the PDF: 4\n",
            "Created: /content/ouput/part1.pdf\n",
            "Created: /content/ouput/part2.pdf\n"
          ]
        }
      ]
    },
    {
      "cell_type": "code",
      "source": [
        "import PyPDF2\n",
        "import os\n",
        "\n",
        "def split_pdf(input_pdf_path, output_folder):\n",
        "    # Open the input PDF file\n",
        "    with open('/content/Research (1).pdf', 'rb') as input_pdf_file:\n",
        "        # Create a PDF reader object\n",
        "        pdf_reader = PyPDF2.PdfReader('/content/Research (1).pdf')\n",
        "        total_pages = len(pdf_reader.pages)\n",
        "\n",
        "        # Create the output directory if it doesn't exist\n",
        "        if not os.path.exists(output_folder):\n",
        "            os.makedirs(output_folder)\n",
        "\n",
        "        # Iterate through each page and create a new PDF file for each page\n",
        "        for page_number in range(total_pages):\n",
        "            # Create a PDF writer object\n",
        "            pdf_writer = PyPDF2.PdfWriter()\n",
        "\n",
        "            # Add the current page to the writer object\n",
        "            pdf_writer.add_page(pdf_reader.pages[page_number])\n",
        "\n",
        "            # Define the output PDF file name\n",
        "            output_pdf_path = os.path.join(output_folder, f\"page_{page_number + 1}.pdf\")\n",
        "\n",
        "            # Write the page to the output PDF file\n",
        "            with open(output_pdf_path, 'wb') as output_pdf_file:\n",
        "                pdf_writer.write(output_pdf_file)\n",
        "\n",
        "            print(f\"Created: {output_pdf_path}\")\n",
        "\n",
        "# Example usage\n",
        "input_pdf_path = '/content/Research (1).pdf'  # Specify the correct path to your input PDF\n",
        "output2_folder = '/content/output2_folder'  # Specify the path to your desired output folder\n",
        "split_pdf(input_pdf_path, output2_folder)\n"
      ],
      "metadata": {
        "colab": {
          "base_uri": "https://localhost:8080/"
        },
        "id": "F38dRKhEWDbU",
        "outputId": "b78847e4-7f1d-45aa-83ea-71c6820b1f84"
      },
      "execution_count": 12,
      "outputs": [
        {
          "output_type": "stream",
          "name": "stdout",
          "text": [
            "Created: /content/output2_folder/page_1.pdf\n",
            "Created: /content/output2_folder/page_2.pdf\n",
            "Created: /content/output2_folder/page_3.pdf\n",
            "Created: /content/output2_folder/page_4.pdf\n",
            "Created: /content/output2_folder/page_5.pdf\n",
            "Created: /content/output2_folder/page_6.pdf\n",
            "Created: /content/output2_folder/page_7.pdf\n",
            "Created: /content/output2_folder/page_8.pdf\n"
          ]
        }
      ]
    },
    {
      "cell_type": "markdown",
      "source": [
        "H.W: Split every single page of the pdf and save into new pdf."
      ],
      "metadata": {
        "id": "45nZ9C-6WFNq"
      }
    }
  ]
}